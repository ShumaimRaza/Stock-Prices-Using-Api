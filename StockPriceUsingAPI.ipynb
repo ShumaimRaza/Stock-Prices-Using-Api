{
 "cells": [
  {
   "cell_type": "markdown",
   "id": "aabef1fc",
   "metadata": {},
   "source": [
    "Importing Libraries"
   ]
  },
  {
   "cell_type": "code",
   "execution_count": null,
   "id": "dc727deb",
   "metadata": {},
   "outputs": [],
   "source": [
    "import tkinter as tk\n",
    "from tkinter import ttk\n",
    "import requests"
   ]
  },
  {
   "cell_type": "markdown",
   "id": "e0b48f95",
   "metadata": {},
   "source": [
    "Api key"
   ]
  },
  {
   "cell_type": "code",
   "execution_count": null,
   "id": "a2a243d7",
   "metadata": {},
   "outputs": [],
   "source": [
    "API_KEY = 'H62C7PICFM215OR8' "
   ]
  },
  {
   "cell_type": "markdown",
   "id": "b9081fa4",
   "metadata": {},
   "source": [
    "retrieving data from the API"
   ]
  },
  {
   "cell_type": "code",
   "execution_count": null,
   "id": "751a5c74",
   "metadata": {},
   "outputs": [],
   "source": [
    "def retrieve_stock_data(symbol):\n",
    "    url = f\"https://www.alphavantage.co/query?function=GLOBAL_QUOTE&symbol={symbol}&apikey={API_KEY}\"\n",
    "    response = requests.get(url)\n",
    "    data = response.json()\n",
    "    return data\n"
   ]
  },
  {
   "cell_type": "markdown",
   "id": "e69f48bd",
   "metadata": {},
   "source": [
    "Check if the API response contains valid data & Display"
   ]
  },
  {
   "cell_type": "code",
   "execution_count": null,
   "id": "394318be",
   "metadata": {},
   "outputs": [],
   "source": [
    "def get_stock_prices():\n",
    "    symbol = stock_var.get()\n",
    "    stock_data = retrieve_stock_data(symbol)\n",
    "\n",
    "    result_frame = tk.Frame(root, bg='white')\n",
    "    result_frame.pack(pady=20)\n",
    "\n",
    "    if 'Global Quote' in stock_data:\n",
    "        global_quote = stock_data['Global Quote']\n",
    "        symbol_label = tk.Label(result_frame, text='Symbol:', bg='white', font=('Arial', 12, 'bold'))\n",
    "        symbol_label.grid(row=0, column=0, sticky='e')\n",
    "        symbol_value_label = tk.Label(result_frame, text=global_quote['01. symbol'], bg='white', font=('Arial', 12))\n",
    "        symbol_value_label.grid(row=0, column=1, sticky='w')\n",
    "\n",
    "        price_label = tk.Label(result_frame, text='Price:', bg='white', font=('Arial', 12, 'bold'))\n",
    "        price_label.grid(row=1, column=0, sticky='e')\n",
    "        price_value_label = tk.Label(result_frame, text=global_quote['05. price'], bg='white', font=('Arial', 12))\n",
    "        price_value_label.grid(row=1, column=1, sticky='w')\n",
    "\n",
    "    else:\n",
    "        error_label = tk.Label(result_frame, text='Error retrieving data', bg='white', font=('Arial', 12, 'bold'), fg='red')\n",
    "        error_label.grid(row=0, column=0, columnspan=2)\n"
   ]
  },
  {
   "cell_type": "markdown",
   "id": "fb01412d",
   "metadata": {},
   "source": [
    "Create the main window of the app and starting mainloop"
   ]
  },
  {
   "cell_type": "code",
   "execution_count": null,
   "id": "e81b692b",
   "metadata": {},
   "outputs": [],
   "source": [
    "root = tk.Tk()\n",
    "root.title(\"Stock Market Data App\")\n",
    "root.configure(bg='white')\n",
    "\n",
    "#frame for the dropdown menu\n",
    "dropdown_frame = tk.Frame(root, bg='white')\n",
    "dropdown_frame.pack(pady=20)\n",
    "\n",
    "#label and dropdown menu for stock selection\n",
    "stock_label = tk.Label(dropdown_frame, text=\"Select a stock:\", font=('Arial', 14), bg='white')\n",
    "stock_label.grid(row=0, column=0, padx=10)\n",
    "\n",
    "stock_options = ['AAPL', 'GOOGL', 'MSFT', 'AMZN']\n",
    "stock_var = tk.StringVar()\n",
    "stock_dropdown = ttk.Combobox(dropdown_frame, textvariable=stock_var, values=stock_options, state=\"readonly\", font=('Arial', 12))\n",
    "stock_dropdown.grid(row=0, column=1)\n",
    "stock_dropdown.current(0)\n",
    "\n",
    "#button to get the stock prices\n",
    "get_prices_button = tk.Button(root, text=\"Get Stock Prices\", command=get_stock_prices, font=('Arial', 14), bg='gray', fg='white', activebackground='darkgray', activeforeground='white')\n",
    "get_prices_button.pack(pady=10)\n",
    "\n",
    "#frame to display the results\n",
    "result_frame = tk.Frame(root, bg='white')\n",
    "result_frame.pack(pady=20)\n",
    "\n",
    "#layout for the result frame\n",
    "result_frame.columnconfigure(0, weight=1)\n",
    "result_frame.columnconfigure(1, weight=1)\n",
    "\n",
    "#layout for the main window\n",
    "root.columnconfigure(0, weight=1)\n",
    "\n",
    "# Start the main event loop\n",
    "root.mainloop()"
   ]
  },
  {
   "cell_type": "code",
   "execution_count": null,
   "id": "e3de88d6",
   "metadata": {},
   "outputs": [],
   "source": []
  }
 ],
 "metadata": {
  "kernelspec": {
   "display_name": "Python 3 (ipykernel)",
   "language": "python",
   "name": "python3"
  },
  "language_info": {
   "codemirror_mode": {
    "name": "ipython",
    "version": 3
   },
   "file_extension": ".py",
   "mimetype": "text/x-python",
   "name": "python",
   "nbconvert_exporter": "python",
   "pygments_lexer": "ipython3",
   "version": "3.10.9"
  }
 },
 "nbformat": 4,
 "nbformat_minor": 5
}
